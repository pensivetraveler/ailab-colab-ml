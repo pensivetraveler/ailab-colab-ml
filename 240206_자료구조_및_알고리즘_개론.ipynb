{
  "nbformat": 4,
  "nbformat_minor": 0,
  "metadata": {
    "colab": {
      "provenance": [],
      "authorship_tag": "ABX9TyMFXtefiOun7P/elCKDwh8G",
      "include_colab_link": true
    },
    "kernelspec": {
      "name": "python3",
      "display_name": "Python 3"
    },
    "language_info": {
      "name": "python"
    }
  },
  "cells": [
    {
      "cell_type": "markdown",
      "metadata": {
        "id": "view-in-github",
        "colab_type": "text"
      },
      "source": [
        "<a href=\"https://colab.research.google.com/github/pensivetraveler/ailab-colab-ml/blob/main/240206_%EC%9E%90%EB%A3%8C%EA%B5%AC%EC%A1%B0_%EB%B0%8F_%EC%95%8C%EA%B3%A0%EB%A6%AC%EC%A6%98_%EA%B0%9C%EB%A1%A0.ipynb\" target=\"_parent\"><img src=\"https://colab.research.google.com/assets/colab-badge.svg\" alt=\"Open In Colab\"/></a>"
      ]
    },
    {
      "cell_type": "code",
      "execution_count": null,
      "metadata": {
        "id": "-4XP5bw783v8"
      },
      "outputs": [],
      "source": [
        "# Q. 리스트  [4, 9, 7, 5, 1] 에서 세개의 숫자를 더해서 17가 될 수 있나요? (중복 x)\n",
        "\n",
        "nums = [4, 9, 7, 5, 1]\n",
        "k = 3\n",
        "target = 17\n",
        "\n",
        "# nums 개수를 한개 줄인다.\n",
        "\n",
        "# nums 개수가 k 개보다 적다\n",
        "\n",
        "\n",
        "# nums 개수가 k 개와 같거나 크다.\n",
        "\n",
        "  # list 개수가 k 개가 아니다.\n",
        "\n",
        "    # list 에 담는다.\n",
        "\n",
        "  # list 개수가 k 개다.\n",
        "\n",
        "    # sum이 target과 같다.\n",
        "      # return\n",
        "\n",
        "    # sum이 target과 같지 않다.\n",
        "\n",
        "      # k 번째 인덱스가 nums의 가장 마지막 인덱스다\n",
        "\n",
        "        # k-1 번째 인덱스를 그 다음 인덱스로 옮긴다.\n",
        "\n",
        "      # k 번째 인덱스가 nums의 가장 마지막 인덱스가 아니다\n",
        "\n",
        "        # k 번째 인덱스 를 다시 앞으로 옮긴다."
      ]
    },
    {
      "cell_type": "code",
      "source": [
        "# Q. 리스트  [4, 9, 7, 5, 1] 에서 세개의 숫자를 더해서 17가 될 수 있나요? (중복 x)\n",
        "\n",
        "def twosum(nums, k, target):\n",
        "  n = len(nums)\n",
        "  start = 0\n",
        "  ans = []\n",
        "  def recur(start):\n",
        "    if len(ans) == k:\n",
        "      if sum([nums[ans[i]] for i in range(k)]) == target:\n",
        "        print(ans)\n",
        "      return False\n",
        "\n",
        "    for i in range(start, n):\n",
        "      ans.append(i)\n",
        "      recur(i+1)\n",
        "      ans.pop()\n",
        "\n",
        "  return recur(start)\n",
        "\n",
        "twosum(nums = [4, 9, 7, 5, 1, 10, 15, 56], k = 5, target = 91)"
      ],
      "metadata": {
        "colab": {
          "base_uri": "https://localhost:8080/"
        },
        "id": "GetKy7UJJuPr",
        "outputId": "ed693cd9-9020-4537-e332-a473ed33e125"
      },
      "execution_count": null,
      "outputs": [
        {
          "output_type": "stream",
          "name": "stdout",
          "text": [
            "[0, 1, 2, 6, 7]\n",
            "[1, 4, 5, 6, 7]\n"
          ]
        }
      ]
    },
    {
      "cell_type": "code",
      "source": [
        "# 조합을 해보자\n",
        "def combine(n: int, k: int) :\n",
        "    ans = []\n",
        "    def recur(start, tmp_ans):\n",
        "        # basecase\n",
        "        if len(tmp_ans) == k:\n",
        "            # res.append(ans) 로 하면 [] 가 넣어진다.\n",
        "            # 복사를 해서 넣어야 한단다. 왜...?\n",
        "            # ans.append(tmp_ans[:])\n",
        "            ans.append(tmp_ans.copy())\n",
        "            return\n",
        "        for i in range(start, n + 1):\n",
        "            tmp_ans.append(i)\n",
        "            recur(i + 1, tmp_ans)\n",
        "            tmp_ans.pop()\n",
        "\n",
        "    recur(1, [])\n",
        "\n",
        "    return ans\n",
        "\n",
        "combine(n = 4, k = 2)"
      ],
      "metadata": {
        "colab": {
          "base_uri": "https://localhost:8080/"
        },
        "id": "SY-wBYVFb8NP",
        "outputId": "55a6064f-4cda-47ee-8f30-cf38f6e43a6c"
      },
      "execution_count": null,
      "outputs": [
        {
          "output_type": "execute_result",
          "data": {
            "text/plain": [
              "[[1, 2], [1, 3], [1, 4], [2, 3], [2, 4], [3, 4]]"
            ]
          },
          "metadata": {},
          "execution_count": 50
        }
      ]
    },
    {
      "cell_type": "code",
      "source": [
        "# 조합을 내장 라이브러리로 해결한 사례\n",
        "from itertools import combinations\n",
        "class Solution:\n",
        "    def combine(self, n: int, k: int) -> List[List[int]]:\n",
        "        return list(combinations(range(1, n+1), k))"
      ],
      "metadata": {
        "id": "MPgWN01VsIoH"
      },
      "execution_count": null,
      "outputs": []
    },
    {
      "cell_type": "code",
      "source": [
        "# 부분집합\n",
        "def subset(nums):\n",
        "    ans = []\n",
        "    n = len(nums)\n",
        "    def recur(start, tmp_ans):\n",
        "        ans.append(tmp_ans[:])\n",
        "        # basecase\n",
        "        if  len(tmp_ans) == n:\n",
        "            return\n",
        "        for i in range(start, n):\n",
        "            tmp_ans.append(nums[i])\n",
        "            recur(i+1, tmp_ans)\n",
        "            tmp_ans.pop()\n",
        "\n",
        "    recur(0, [])\n",
        "    print(ans)\n",
        "    return\n",
        "\n",
        "subset([4,6,2,7,8])"
      ],
      "metadata": {
        "colab": {
          "base_uri": "https://localhost:8080/"
        },
        "id": "oo85BLq9zbPN",
        "outputId": "843d8c86-4eba-4a34-882e-642a0b9b4ba8"
      },
      "execution_count": null,
      "outputs": [
        {
          "output_type": "stream",
          "name": "stdout",
          "text": [
            "[[], [4], [4, 6], [4, 6, 2], [4, 6, 2, 7], [4, 6, 2, 7, 8], [4, 6, 2, 8], [4, 6, 7], [4, 6, 7, 8], [4, 6, 8], [4, 2], [4, 2, 7], [4, 2, 7, 8], [4, 2, 8], [4, 7], [4, 7, 8], [4, 8], [6], [6, 2], [6, 2, 7], [6, 2, 7, 8], [6, 2, 8], [6, 7], [6, 7, 8], [6, 8], [2], [2, 7], [2, 7, 8], [2, 8], [7], [7, 8], [8]]\n"
          ]
        }
      ]
    },
    {
      "cell_type": "code",
      "source": [
        "# tnsduf\n",
        "def permutation(n, r):\n",
        "  ans = []\n",
        "  tmp_ans = []\n",
        "  def recur():\n",
        "    if len(tmp_ans) == r :\n",
        "      ans.append(tmp_ans[:])\n",
        "      return\n",
        "\n",
        "    for i in range(1, n+1):\n",
        "      if i not in tmp_ans:\n",
        "        tmp_ans.append(i)\n",
        "        recur()\n",
        "        tmp_ans.pop()\n",
        "\n",
        "  recur()\n",
        "  print(ans)\n",
        "\n",
        "permutation(4, 2)"
      ],
      "metadata": {
        "colab": {
          "base_uri": "https://localhost:8080/"
        },
        "id": "EdfcExAFzpcH",
        "outputId": "14c16bfd-fac2-46d4-a9d1-690a234740be"
      },
      "execution_count": null,
      "outputs": [
        {
          "output_type": "stream",
          "name": "stdout",
          "text": [
            "[[1, 2], [1, 3], [1, 4], [2, 1], [2, 3], [2, 4], [3, 1], [3, 2], [3, 4], [4, 1], [4, 2], [4, 3]]\n"
          ]
        }
      ]
    }
  ]
}